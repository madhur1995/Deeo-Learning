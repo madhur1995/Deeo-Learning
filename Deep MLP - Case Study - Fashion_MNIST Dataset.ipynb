{
 "cells": [
  {
   "cell_type": "code",
   "execution_count": 20,
   "id": "dc75811a",
   "metadata": {},
   "outputs": [],
   "source": [
    "# importing the ML library\n",
    "import numpy as np\n",
    "import pandas as pd\n",
    "import matplotlib.pyplot as plt\n",
    "import seaborn as sns\n",
    "%matplotlib inline"
   ]
  },
  {
   "cell_type": "code",
   "execution_count": 21,
   "id": "d4e06447",
   "metadata": {},
   "outputs": [
    {
     "name": "stdout",
     "output_type": "stream",
     "text": [
      "2.6.0\n"
     ]
    }
   ],
   "source": [
    "# Importing DL library (tensorflow and keras)\n",
    "import tensorflow as tf\n",
    "from tensorflow import keras\n",
    "print(tf.__version__)"
   ]
  },
  {
   "cell_type": "code",
   "execution_count": 22,
   "id": "9fa96ac3",
   "metadata": {},
   "outputs": [],
   "source": [
    "# Importing Fashion MNIST Dataset\n",
    "fashion_mnist = keras.datasets.fashion_mnist"
   ]
  },
  {
   "cell_type": "code",
   "execution_count": 23,
   "id": "59c4ae62",
   "metadata": {},
   "outputs": [
    {
     "data": {
      "text/plain": [
       "<module 'keras.api._v2.keras.datasets.fashion_mnist' from 'C:\\\\Users\\\\Lenovo\\\\anaconda3\\\\lib\\\\site-packages\\\\keras\\\\api\\\\_v2\\\\keras\\\\datasets\\\\fashion_mnist\\\\__init__.py'>"
      ]
     },
     "execution_count": 23,
     "metadata": {},
     "output_type": "execute_result"
    }
   ],
   "source": [
    "fashion_mnist"
   ]
  },
  {
   "cell_type": "code",
   "execution_count": 24,
   "id": "0cfcd453",
   "metadata": {},
   "outputs": [],
   "source": [
    "(train_images, train_labels), (test_images, test_labels) = fashion_mnist.load_data()\n",
    "#assert x_train.shape == (60000, 28, 28)\n",
    "#assert x_test.shape == (10000, 28, 28)\n",
    "#assert y_train.shape == (60000,)\n",
    "#assert y_test.shape == (10000,)"
   ]
  },
  {
   "cell_type": "code",
   "execution_count": 25,
   "id": "b54ba5d8",
   "metadata": {},
   "outputs": [
    {
     "name": "stdout",
     "output_type": "stream",
     "text": [
      "(60000, 28, 28)\n",
      "(60000,)\n",
      "(10000, 28, 28)\n",
      "(10000,)\n"
     ]
    }
   ],
   "source": [
    "print(train_images.shape)\n",
    "print(train_labels.shape)\n",
    "print(test_images.shape)\n",
    "print(test_labels.shape)"
   ]
  },
  {
   "cell_type": "code",
   "execution_count": 26,
   "id": "413aecf0",
   "metadata": {},
   "outputs": [
    {
     "ename": "SyntaxError",
     "evalue": "invalid syntax (<ipython-input-26-4d97441e205d>, line 1)",
     "output_type": "error",
     "traceback": [
      "\u001b[1;36m  File \u001b[1;32m\"<ipython-input-26-4d97441e205d>\"\u001b[1;36m, line \u001b[1;32m1\u001b[0m\n\u001b[1;33m    Label\tDescription\u001b[0m\n\u001b[1;37m         \t^\u001b[0m\n\u001b[1;31mSyntaxError\u001b[0m\u001b[1;31m:\u001b[0m invalid syntax\n"
     ]
    }
   ],
   "source": [
    "\n",
    "Label\tDescription\n",
    "0\tT-shirt/top\n",
    "1\tTrouser\n",
    "2\tPullover\n",
    "3\tDress\n",
    "4\tCoat\n",
    "5\tSandal\n",
    "6\tShirt\n",
    "7\tSneaker\n",
    "8\tBag\n",
    "9\tAnkle boot"
   ]
  },
  {
   "cell_type": "code",
   "execution_count": 27,
   "id": "14dc4aa9",
   "metadata": {},
   "outputs": [],
   "source": [
    "class_names = ['T-shirt/top','Trouser','Pullover','Dress','Coat','Sandal','Shirt',\n",
    "              'Sneaker','Bag','Ankle boot']"
   ]
  },
  {
   "cell_type": "code",
   "execution_count": 28,
   "id": "1a95a3a9",
   "metadata": {},
   "outputs": [
    {
     "data": {
      "text/plain": [
       "['T-shirt/top',\n",
       " 'Trouser',\n",
       " 'Pullover',\n",
       " 'Dress',\n",
       " 'Coat',\n",
       " 'Sandal',\n",
       " 'Shirt',\n",
       " 'Sneaker',\n",
       " 'Bag',\n",
       " 'Ankle boot']"
      ]
     },
     "execution_count": 28,
     "metadata": {},
     "output_type": "execute_result"
    }
   ],
   "source": [
    "class_names"
   ]
  },
  {
   "cell_type": "code",
   "execution_count": 29,
   "id": "d7d22ef9",
   "metadata": {},
   "outputs": [
    {
     "data": {
      "image/png": "[encoded data removed]",
      "text/plain": [
       "<Figure size 432x288 with 2 Axes>"
      ]
     },
     "metadata": {
      "needs_background": "light"
     },
     "output_type": "display_data"
    }
   ],
   "source": [
    "plt.figure()\n",
    "plt.imshow(train_images[5000])\n",
    "plt.colorbar()\n",
    "plt.grid(False)\n",
    "plt.show()"
   ]
  },
  {
   "cell_type": "code",
   "execution_count": 30,
   "id": "660f3176",
   "metadata": {},
   "outputs": [
    {
     "data": {
      "image/png": "[encoded data removed]",
      "text/plain": [
       "<Figure size 432x288 with 2 Axes>"
      ]
     },
     "metadata": {
      "needs_background": "light"
     },
     "output_type": "display_data"
    }
   ],
   "source": [
    "plt.figure()\n",
    "plt.imshow(train_images[40000])\n",
    "plt.colorbar()\n",
    "plt.grid(True)\n",
    "plt.show()"
   ]
  },
  {
   "cell_type": "code",
   "execution_count": 31,
   "id": "87871075",
   "metadata": {},
   "outputs": [],
   "source": [
    "# Data-Preprocess : min-max apprach\n",
    "# most popular on image - mandatory steps\n",
    "\n",
    "train_images = train_images/255.0\n",
    "test_images = test_images/255.0\n"
   ]
  },
  {
   "cell_type": "code",
   "execution_count": 32,
   "id": "36795114",
   "metadata": {},
   "outputs": [
    {
     "data": {
      "image/png": "[encoded data removed]",
      "text/plain": [
       "<Figure size 432x288 with 2 Axes>"
      ]
     },
     "metadata": {
      "needs_background": "light"
     },
     "output_type": "display_data"
    }
   ],
   "source": [
    "plt.figure()\n",
    "plt.imshow(train_images[20500])\n",
    "plt.colorbar()\n",
    "plt.grid(True)\n",
    "plt.show()"
   ]
  },
  {
   "cell_type": "code",
   "execution_count": 33,
   "id": "5119516f",
   "metadata": {},
   "outputs": [
    {
     "data": {
      "image/png": "[encoded data removed]",
      "text/plain": [
       "<Figure size 720x720 with 25 Axes>"
      ]
     },
     "metadata": {},
     "output_type": "display_data"
    }
   ],
   "source": [
    "# Lets see few more images\n",
    "\n",
    "plt.figure(figsize=(10,10))\n",
    "\n",
    "for i in range(25):\n",
    "    plt.subplot(5,5,i+1)\n",
    "    plt.xticks([])\n",
    "    plt.yticks([])\n",
    "    plt.grid(True)\n",
    "    plt.imshow(train_images[i], cmap=plt.cm.binary)\n",
    "    plt.xlabel(class_names[train_labels[i]])\n",
    "    \n",
    "plt.show()"
   ]
  },
  {
   "cell_type": "code",
   "execution_count": 34,
   "id": "239cfa50",
   "metadata": {},
   "outputs": [],
   "source": [
    "# Now, building simple multilayer perceptron"
   ]
  },
  {
   "cell_type": "code",
   "execution_count": 35,
   "id": "9b849be3",
   "metadata": {},
   "outputs": [],
   "source": [
    "tf.random.set_seed(100)\n",
    "tf.keras.backend.clear_session()\n",
    "\n",
    "model = None\n",
    "\n",
    "model = keras.Sequential([\n",
    "    keras.layers.Flatten(input_shape=(28, 28)),\n",
    "    keras.layers.Dense(128, activation='relu'),\n",
    "    keras.layers.Dense(10) \n",
    "    \n",
    "    \n",
    "])"
   ]
  },
  {
   "cell_type": "code",
   "execution_count": 36,
   "id": "5e59cc3c",
   "metadata": {},
   "outputs": [
    {
     "data": {
      "text/plain": [
       "<keras.engine.sequential.Sequential at 0x23123ff75e0>"
      ]
     },
     "execution_count": 36,
     "metadata": {},
     "output_type": "execute_result"
    }
   ],
   "source": [
    "model"
   ]
  },
  {
   "cell_type": "code",
   "execution_count": 37,
   "id": "bf561252",
   "metadata": {},
   "outputs": [
    {
     "name": "stdout",
     "output_type": "stream",
     "text": [
      "('You must install pydot (`pip install pydot`) and install graphviz (see instructions at https://graphviz.gitlab.io/download/) ', 'for plot_model/model_to_dot to work.')\n"
     ]
    }
   ],
   "source": [
    "from tensorflow.keras.utils import plot_model\n",
    "plot_model(model, 'model.png', show_shapes=True)"
   ]
  },
  {
   "cell_type": "code",
   "execution_count": 38,
   "id": "de83b60a",
   "metadata": {},
   "outputs": [
    {
     "name": "stdout",
     "output_type": "stream",
     "text": [
      "Model: \"sequential\"\n",
      "_________________________________________________________________\n",
      "Layer (type)                 Output Shape              Param #   \n",
      "=================================================================\n",
      "flatten (Flatten)            (None, 784)               0         \n",
      "_________________________________________________________________\n",
      "dense (Dense)                (None, 128)               100480    \n",
      "_________________________________________________________________\n",
      "dense_1 (Dense)              (None, 10)                1290      \n",
      "=================================================================\n",
      "Total params: 101,770\n",
      "Trainable params: 101,770\n",
      "Non-trainable params: 0\n",
      "_________________________________________________________________\n"
     ]
    }
   ],
   "source": [
    "model.summary()"
   ]
  },
  {
   "cell_type": "code",
   "execution_count": 42,
   "id": "9568f3d7",
   "metadata": {},
   "outputs": [],
   "source": [
    "model.compile(optimizer ='adam' , \n",
    "              loss=tf.keras.losses.SparseCategoricalCrossentropy\n",
    "              (from_logits=True),metrics=['accuracy'])"
   ]
  },
  {
   "cell_type": "code",
   "execution_count": 48,
   "id": "41d92c94",
   "metadata": {},
   "outputs": [
    {
     "name": "stdout",
     "output_type": "stream",
     "text": [
      "logs\\20211103-220704\n"
     ]
    }
   ],
   "source": [
    "# visualisation by using tensor-board\n",
    "\n",
    "import os\n",
    "import datetime\n",
    "\n",
    "logdir = os.path.join('logs',datetime.datetime.now().strftime('%Y%m%d-%H%M%S'))\n",
    "print(logdir)"
   ]
  },
  {
   "cell_type": "code",
   "execution_count": 49,
   "id": "09c20dbe",
   "metadata": {},
   "outputs": [
    {
     "name": "stdout",
     "output_type": "stream",
     "text": [
      "The tensorboard extension is already loaded. To reload it, use:\n",
      "  %reload_ext tensorboard\n"
     ]
    },
    {
     "data": {
      "text/html": [
       "\n",
       "      <iframe id=\"tensorboard-frame-4354f54ce8e1251\" width=\"100%\" height=\"800\" frameborder=\"0\">\n",
       "      </iframe>\n",
       "      <script>\n",
       "        (function() {\n",
       "          const frame = document.getElementById(\"tensorboard-frame-4354f54ce8e1251\");\n",
       "          const url = new URL(\"/\", window.location);\n",
       "          const port = 6006;\n",
       "          if (port) {\n",
       "            url.port = port;\n",
       "          }\n",
       "          frame.src = url;\n",
       "        })();\n",
       "      </script>\n",
       "    "
      ],
      "text/plain": [
       "<IPython.core.display.HTML object>"
      ]
     },
     "metadata": {},
     "output_type": "display_data"
    }
   ],
   "source": [
    "%load_ext tensorboard\n",
    "%tensorboard --logdir $logdir"
   ]
  },
  {
   "cell_type": "code",
   "execution_count": 46,
   "id": "024511ce",
   "metadata": {},
   "outputs": [
    {
     "name": "stdout",
     "output_type": "stream",
     "text": [
      "Epoch 1/10\n",
      "1875/1875 [==============================] - 7s 3ms/step - loss: 0.5007 - accuracy: 0.8240\n",
      "Epoch 2/10\n",
      "1875/1875 [==============================] - 5s 3ms/step - loss: 0.3802 - accuracy: 0.8631\n",
      "Epoch 3/10\n",
      "1875/1875 [==============================] - 5s 3ms/step - loss: 0.3397 - accuracy: 0.8752\n",
      "Epoch 4/10\n",
      "1875/1875 [==============================] - 5s 3ms/step - loss: 0.3145 - accuracy: 0.8839\n",
      "Epoch 5/10\n",
      "1875/1875 [==============================] - 6s 3ms/step - loss: 0.2958 - accuracy: 0.8894\n",
      "Epoch 6/10\n",
      "1875/1875 [==============================] - 6s 3ms/step - loss: 0.2817 - accuracy: 0.8965\n",
      "Epoch 7/10\n",
      "1875/1875 [==============================] - 5s 3ms/step - loss: 0.2669 - accuracy: 0.8999\n",
      "Epoch 8/10\n",
      "1875/1875 [==============================] - 6s 3ms/step - loss: 0.2583 - accuracy: 0.9032\n",
      "Epoch 9/10\n",
      "1875/1875 [==============================] - 5s 3ms/step - loss: 0.2478 - accuracy: 0.9066\n",
      "Epoch 10/10\n",
      "1875/1875 [==============================] - 5s 3ms/step - loss: 0.2389 - accuracy: 0.9106\n"
     ]
    },
    {
     "data": {
      "text/plain": [
       "<keras.callbacks.History at 0x231220a4ca0>"
      ]
     },
     "execution_count": 46,
     "metadata": {},
     "output_type": "execute_result"
    }
   ],
   "source": [
    "tesorboard_callback = tf.keras.callbacks.TensorBoard(logdir, histogram_freq=1)\n",
    "model.fit(train_images, train_labels, epochs=10, callbacks=[tesorboard_callback])"
   ]
  },
  {
   "cell_type": "code",
   "execution_count": 50,
   "id": "ebf1b063",
   "metadata": {},
   "outputs": [
    {
     "name": "stdout",
     "output_type": "stream",
     "text": [
      "313/313 - 1s - loss: 0.3368 - accuracy: 0.8822\n",
      "[0.33678096532821655, 0.8822000026702881]\n"
     ]
    }
   ],
   "source": [
    "# To check overfitting problem\n",
    "\n",
    "test_accuracy = model.evaluate(test_images, test_labels, verbose=2)\n",
    "print(test_accuracy)"
   ]
  },
  {
   "cell_type": "code",
   "execution_count": 51,
   "id": "355d88cb",
   "metadata": {},
   "outputs": [
    {
     "name": "stdout",
     "output_type": "stream",
     "text": [
      "Epoch 1/100\n",
      "1875/1875 [==============================] - 6s 3ms/step - loss: 0.2318 - accuracy: 0.9141\n",
      "Epoch 2/100\n",
      "1875/1875 [==============================] - 6s 3ms/step - loss: 0.2247 - accuracy: 0.9154\n",
      "Epoch 3/100\n",
      "1875/1875 [==============================] - 5s 3ms/step - loss: 0.2192 - accuracy: 0.9170\n",
      "Epoch 4/100\n",
      "1875/1875 [==============================] - 6s 3ms/step - loss: 0.2122 - accuracy: 0.9205\n",
      "Epoch 5/100\n",
      "1875/1875 [==============================] - 6s 3ms/step - loss: 0.2062 - accuracy: 0.9227\n",
      "Epoch 6/100\n",
      "1875/1875 [==============================] - 6s 3ms/step - loss: 0.2021 - accuracy: 0.9243\n",
      "Epoch 7/100\n",
      "1875/1875 [==============================] - 6s 3ms/step - loss: 0.1938 - accuracy: 0.9271\n",
      "Epoch 8/100\n",
      "1875/1875 [==============================] - 6s 3ms/step - loss: 0.1899 - accuracy: 0.9289\n",
      "Epoch 9/100\n",
      "1875/1875 [==============================] - 6s 3ms/step - loss: 0.1854 - accuracy: 0.9299: 0s - loss:\n",
      "Epoch 10/100\n",
      "1875/1875 [==============================] - 5s 3ms/step - loss: 0.1817 - accuracy: 0.9323\n",
      "Epoch 11/100\n",
      "1875/1875 [==============================] - 5s 3ms/step - loss: 0.1763 - accuracy: 0.9337\n",
      "Epoch 12/100\n",
      "1875/1875 [==============================] - 6s 3ms/step - loss: 0.1740 - accuracy: 0.9333\n",
      "Epoch 13/100\n",
      "1875/1875 [==============================] - 6s 3ms/step - loss: 0.1684 - accuracy: 0.9369\n",
      "Epoch 14/100\n",
      "1875/1875 [==============================] - 5s 3ms/step - loss: 0.1661 - accuracy: 0.9381: 0s - loss: 0.165\n",
      "Epoch 15/100\n",
      "1875/1875 [==============================] - 5s 3ms/step - loss: 0.1631 - accuracy: 0.9383\n",
      "Epoch 16/100\n",
      "1875/1875 [==============================] - 5s 3ms/step - loss: 0.1578 - accuracy: 0.9401\n",
      "Epoch 17/100\n",
      "1875/1875 [==============================] - 5s 2ms/step - loss: 0.1554 - accuracy: 0.9416\n",
      "Epoch 18/100\n",
      "1875/1875 [==============================] - 5s 3ms/step - loss: 0.1519 - accuracy: 0.9422\n",
      "Epoch 19/100\n",
      "1875/1875 [==============================] - 5s 2ms/step - loss: 0.1489 - accuracy: 0.9449\n",
      "Epoch 20/100\n",
      "1875/1875 [==============================] - 5s 3ms/step - loss: 0.1436 - accuracy: 0.9453\n",
      "Epoch 21/100\n",
      "1875/1875 [==============================] - 5s 3ms/step - loss: 0.1435 - accuracy: 0.9464\n",
      "Epoch 22/100\n",
      "1875/1875 [==============================] - 5s 3ms/step - loss: 0.1362 - accuracy: 0.9489\n",
      "Epoch 23/100\n",
      "1875/1875 [==============================] - 5s 3ms/step - loss: 0.1365 - accuracy: 0.9482\n",
      "Epoch 24/100\n",
      "1875/1875 [==============================] - 5s 3ms/step - loss: 0.1321 - accuracy: 0.9503\n",
      "Epoch 25/100\n",
      "1875/1875 [==============================] - 5s 3ms/step - loss: 0.1307 - accuracy: 0.9506\n",
      "Epoch 26/100\n",
      "1875/1875 [==============================] - 5s 2ms/step - loss: 0.1288 - accuracy: 0.9522\n",
      "Epoch 27/100\n",
      "1875/1875 [==============================] - 5s 3ms/step - loss: 0.1264 - accuracy: 0.9519\n",
      "Epoch 28/100\n",
      "1875/1875 [==============================] - 5s 3ms/step - loss: 0.1227 - accuracy: 0.9538\n",
      "Epoch 29/100\n",
      "1875/1875 [==============================] - 5s 3ms/step - loss: 0.1229 - accuracy: 0.9538\n",
      "Epoch 30/100\n",
      "1875/1875 [==============================] - 4s 2ms/step - loss: 0.1192 - accuracy: 0.9547\n",
      "Epoch 31/100\n",
      "1875/1875 [==============================] - 4s 2ms/step - loss: 0.1180 - accuracy: 0.9555\n",
      "Epoch 32/100\n",
      "1875/1875 [==============================] - 4s 2ms/step - loss: 0.1153 - accuracy: 0.9572\n",
      "Epoch 33/100\n",
      "1875/1875 [==============================] - 5s 2ms/step - loss: 0.1148 - accuracy: 0.9569\n",
      "Epoch 34/100\n",
      "1875/1875 [==============================] - 5s 3ms/step - loss: 0.1118 - accuracy: 0.9569\n",
      "Epoch 35/100\n",
      "1875/1875 [==============================] - 5s 3ms/step - loss: 0.1104 - accuracy: 0.9588\n",
      "Epoch 36/100\n",
      "1875/1875 [==============================] - 5s 3ms/step - loss: 0.1065 - accuracy: 0.9603\n",
      "Epoch 37/100\n",
      "1875/1875 [==============================] - 5s 3ms/step - loss: 0.1061 - accuracy: 0.9606\n",
      "Epoch 38/100\n",
      "1875/1875 [==============================] - 5s 3ms/step - loss: 0.1027 - accuracy: 0.9620\n",
      "Epoch 39/100\n",
      "1875/1875 [==============================] - 6s 3ms/step - loss: 0.1044 - accuracy: 0.9607\n",
      "Epoch 40/100\n",
      "1875/1875 [==============================] - 5s 3ms/step - loss: 0.1019 - accuracy: 0.9626\n",
      "Epoch 41/100\n",
      "1875/1875 [==============================] - 5s 3ms/step - loss: 0.1013 - accuracy: 0.9620\n",
      "Epoch 42/100\n",
      "1875/1875 [==============================] - 6s 3ms/step - loss: 0.0976 - accuracy: 0.9628\n",
      "Epoch 43/100\n",
      "1875/1875 [==============================] - 5s 3ms/step - loss: 0.0983 - accuracy: 0.9631\n",
      "Epoch 44/100\n",
      "1875/1875 [==============================] - 5s 3ms/step - loss: 0.0952 - accuracy: 0.9640\n",
      "Epoch 45/100\n",
      "1875/1875 [==============================] - 6s 3ms/step - loss: 0.0931 - accuracy: 0.9646: 0s - loss: 0.0928 - accuracy: 0.\n",
      "Epoch 46/100\n",
      "1875/1875 [==============================] - 5s 3ms/step - loss: 0.0930 - accuracy: 0.9649\n",
      "Epoch 47/100\n",
      "1875/1875 [==============================] - 6s 3ms/step - loss: 0.0901 - accuracy: 0.9662\n",
      "Epoch 48/100\n",
      "1875/1875 [==============================] - 5s 3ms/step - loss: 0.0901 - accuracy: 0.9655\n",
      "Epoch 49/100\n",
      "1875/1875 [==============================] - 6s 3ms/step - loss: 0.0899 - accuracy: 0.9658\n",
      "Epoch 50/100\n",
      "1875/1875 [==============================] - 5s 3ms/step - loss: 0.0875 - accuracy: 0.9677\n",
      "Epoch 51/100\n",
      "1875/1875 [==============================] - 6s 3ms/step - loss: 0.0870 - accuracy: 0.9678\n",
      "Epoch 52/100\n",
      "1875/1875 [==============================] - 6s 3ms/step - loss: 0.0851 - accuracy: 0.9686\n",
      "Epoch 53/100\n",
      "1875/1875 [==============================] - 6s 3ms/step - loss: 0.0825 - accuracy: 0.9687\n",
      "Epoch 54/100\n",
      "1875/1875 [==============================] - 6s 3ms/step - loss: 0.0846 - accuracy: 0.9682\n",
      "Epoch 55/100\n",
      "1875/1875 [==============================] - 5s 3ms/step - loss: 0.0794 - accuracy: 0.9698\n",
      "Epoch 56/100\n",
      "1875/1875 [==============================] - 5s 3ms/step - loss: 0.0810 - accuracy: 0.9699\n",
      "Epoch 57/100\n",
      "1875/1875 [==============================] - 6s 3ms/step - loss: 0.0780 - accuracy: 0.9706\n",
      "Epoch 58/100\n",
      "1875/1875 [==============================] - 6s 3ms/step - loss: 0.0806 - accuracy: 0.9704\n",
      "Epoch 59/100\n",
      "1875/1875 [==============================] - 5s 3ms/step - loss: 0.0764 - accuracy: 0.9717\n",
      "Epoch 60/100\n",
      "1875/1875 [==============================] - 5s 3ms/step - loss: 0.0760 - accuracy: 0.9717\n",
      "Epoch 61/100\n",
      "1875/1875 [==============================] - 5s 3ms/step - loss: 0.0743 - accuracy: 0.9725\n",
      "Epoch 62/100\n",
      "1875/1875 [==============================] - 5s 3ms/step - loss: 0.0743 - accuracy: 0.9718\n",
      "Epoch 63/100\n",
      "1875/1875 [==============================] - 5s 3ms/step - loss: 0.0736 - accuracy: 0.9724\n",
      "Epoch 64/100\n",
      "1875/1875 [==============================] - 5s 3ms/step - loss: 0.0719 - accuracy: 0.9732\n",
      "Epoch 65/100\n",
      "1875/1875 [==============================] - 5s 3ms/step - loss: 0.0722 - accuracy: 0.9726\n",
      "Epoch 66/100\n",
      "1875/1875 [==============================] - 5s 3ms/step - loss: 0.0700 - accuracy: 0.9739\n",
      "Epoch 67/100\n",
      "1875/1875 [==============================] - 6s 3ms/step - loss: 0.0717 - accuracy: 0.9728\n",
      "Epoch 68/100\n",
      "1875/1875 [==============================] - 5s 3ms/step - loss: 0.0665 - accuracy: 0.9755\n",
      "Epoch 69/100\n",
      "1875/1875 [==============================] - 6s 3ms/step - loss: 0.0684 - accuracy: 0.9742\n",
      "Epoch 70/100\n",
      "1875/1875 [==============================] - 6s 3ms/step - loss: 0.0670 - accuracy: 0.9748\n",
      "Epoch 71/100\n",
      "1875/1875 [==============================] - 5s 3ms/step - loss: 0.0664 - accuracy: 0.9748\n",
      "Epoch 72/100\n",
      "1875/1875 [==============================] - 5s 3ms/step - loss: 0.0670 - accuracy: 0.9754\n",
      "Epoch 73/100\n",
      "1875/1875 [==============================] - 5s 3ms/step - loss: 0.0636 - accuracy: 0.9760\n",
      "Epoch 74/100\n",
      "1875/1875 [==============================] - 5s 3ms/step - loss: 0.0672 - accuracy: 0.9742\n",
      "Epoch 75/100\n",
      "1875/1875 [==============================] - 5s 3ms/step - loss: 0.0633 - accuracy: 0.9768\n",
      "Epoch 76/100\n",
      "1875/1875 [==============================] - 5s 3ms/step - loss: 0.0627 - accuracy: 0.9770\n",
      "Epoch 77/100\n",
      "1875/1875 [==============================] - 5s 3ms/step - loss: 0.0616 - accuracy: 0.9775\n",
      "Epoch 78/100\n",
      "1875/1875 [==============================] - 5s 3ms/step - loss: 0.0627 - accuracy: 0.9765\n",
      "Epoch 79/100\n",
      "1875/1875 [==============================] - 5s 3ms/step - loss: 0.0589 - accuracy: 0.9780\n",
      "Epoch 80/100\n",
      "1875/1875 [==============================] - 5s 3ms/step - loss: 0.0588 - accuracy: 0.9776: 0s - loss: 0.0588 - accu\n",
      "Epoch 81/100\n",
      "1875/1875 [==============================] - 5s 3ms/step - loss: 0.0598 - accuracy: 0.9782\n",
      "Epoch 82/100\n",
      "1875/1875 [==============================] - 6s 3ms/step - loss: 0.0584 - accuracy: 0.9785: 0s - loss: 0.0580 - \n",
      "Epoch 83/100\n",
      "1875/1875 [==============================] - 6s 3ms/step - loss: 0.0569 - accuracy: 0.9787\n",
      "Epoch 84/100\n",
      "1875/1875 [==============================] - 5s 3ms/step - loss: 0.0598 - accuracy: 0.9779\n",
      "Epoch 85/100\n",
      "1875/1875 [==============================] - 5s 3ms/step - loss: 0.0576 - accuracy: 0.9791\n",
      "Epoch 86/100\n",
      "1875/1875 [==============================] - 5s 3ms/step - loss: 0.0576 - accuracy: 0.9793\n",
      "Epoch 87/100\n",
      "1875/1875 [==============================] - 5s 3ms/step - loss: 0.0564 - accuracy: 0.9788\n",
      "Epoch 88/100\n",
      "1875/1875 [==============================] - 5s 3ms/step - loss: 0.0542 - accuracy: 0.9790\n",
      "Epoch 89/100\n",
      "1875/1875 [==============================] - 5s 3ms/step - loss: 0.0558 - accuracy: 0.9789\n",
      "Epoch 90/100\n",
      "1875/1875 [==============================] - 5s 3ms/step - loss: 0.0534 - accuracy: 0.9800\n",
      "Epoch 91/100\n",
      "1875/1875 [==============================] - 5s 3ms/step - loss: 0.0530 - accuracy: 0.9801\n",
      "Epoch 92/100\n",
      "1875/1875 [==============================] - 5s 3ms/step - loss: 0.0546 - accuracy: 0.9796\n",
      "Epoch 93/100\n",
      "1875/1875 [==============================] - 5s 3ms/step - loss: 0.0507 - accuracy: 0.9816\n",
      "Epoch 94/100\n",
      "1875/1875 [==============================] - 5s 3ms/step - loss: 0.0523 - accuracy: 0.9804\n",
      "Epoch 95/100\n",
      "1875/1875 [==============================] - 5s 3ms/step - loss: 0.0510 - accuracy: 0.9808\n",
      "Epoch 96/100\n",
      "1875/1875 [==============================] - 5s 3ms/step - loss: 0.0482 - accuracy: 0.9820\n",
      "Epoch 97/100\n",
      "1875/1875 [==============================] - 5s 3ms/step - loss: 0.0526 - accuracy: 0.9804\n",
      "Epoch 98/100\n",
      "1875/1875 [==============================] - 5s 3ms/step - loss: 0.0500 - accuracy: 0.9807\n",
      "Epoch 99/100\n",
      "1875/1875 [==============================] - 5s 3ms/step - loss: 0.0469 - accuracy: 0.9827\n",
      "Epoch 100/100\n",
      "1875/1875 [==============================] - 5s 3ms/step - loss: 0.0489 - accuracy: 0.9816\n"
     ]
    },
    {
     "data": {
      "text/plain": [
       "<keras.callbacks.History at 0x231239c8940>"
      ]
     },
     "execution_count": 51,
     "metadata": {},
     "output_type": "execute_result"
    }
   ],
   "source": [
    "tesorboard_callback = tf.keras.callbacks.TensorBoard(logdir, histogram_freq=1)\n",
    "model.fit(train_images, train_labels, epochs=100, callbacks=[tesorboard_callback])"
   ]
  },
  {
   "cell_type": "code",
   "execution_count": null,
   "id": "e9e49ec3",
   "metadata": {},
   "outputs": [],
   "source": []
  },
  {
   "cell_type": "code",
   "execution_count": null,
   "id": "7a283e7f",
   "metadata": {},
   "outputs": [],
   "source": []
  }
 ],
 "metadata": {
  "kernelspec": {
   "display_name": "Python 3",
   "language": "python",
   "name": "python3"
  },
  "language_info": {
   "codemirror_mode": {
    "name": "ipython",
    "version": 3
   },
   "file_extension": ".py",
   "mimetype": "text/x-python",
   "name": "python",
   "nbconvert_exporter": "python",
   "pygments_lexer": "ipython3",
   "version": "3.8.8"
  }
 },
 "nbformat": 4,
 "nbformat_minor": 5
}
